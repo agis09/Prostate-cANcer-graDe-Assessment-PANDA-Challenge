{
 "cells": [
  {
   "cell_type": "code",
   "execution_count": 1,
   "metadata": {},
   "outputs": [],
   "source": [
    "import os\n",
    "import cv2\n",
    "import skimage.io\n",
    "from tqdm import tqdm\n",
    "import zipfile\n",
    "import numpy as np"
   ]
  },
  {
   "cell_type": "code",
   "execution_count": 2,
   "metadata": {},
   "outputs": [],
   "source": [
    "TRAIN = '../PANDA_data/train_images/'\n",
    "MASKS = '../PANDA_data/train_label_masks/'\n",
    "OUT_TRAIN = 'train.zip'\n",
    "OUT_MASKS = 'masks.zip'\n",
    "sz = 128\n",
    "N = 16"
   ]
  },
  {
   "cell_type": "code",
   "execution_count": 3,
   "metadata": {},
   "outputs": [],
   "source": [
    "def tile(img, mask):\n",
    "    result = []\n",
    "    shape = img.shape\n",
    "    pad0,pad1 = (sz - shape[0]%sz)%sz, (sz - shape[1]%sz)%sz\n",
    "    img = np.pad(img,[[pad0//2,pad0-pad0//2],[pad1//2,pad1-pad1//2],[0,0]],\n",
    "                constant_values=255)\n",
    "    mask = np.pad(mask,[[pad0//2,pad0-pad0//2],[pad1//2,pad1-pad1//2],[0,0]],\n",
    "                constant_values=0)\n",
    "    img = img.reshape(img.shape[0]//sz,sz,img.shape[1]//sz,sz,3)\n",
    "    img = img.transpose(0,2,1,3,4).reshape(-1,sz,sz,3)\n",
    "    mask = mask.reshape(mask.shape[0]//sz,sz,mask.shape[1]//sz,sz,3)\n",
    "    mask = mask.transpose(0,2,1,3,4).reshape(-1,sz,sz,3)\n",
    "    if len(img) < N:\n",
    "        mask = np.pad(mask,[[0,N-len(img)],[0,0],[0,0],[0,0]],constant_values=0)\n",
    "        img = np.pad(img,[[0,N-len(img)],[0,0],[0,0],[0,0]],constant_values=255)\n",
    "    idxs = np.argsort(img.reshape(img.shape[0],-1).sum(-1))[:N]\n",
    "    img = img[idxs]\n",
    "    mask = mask[idxs]\n",
    "    for i in range(len(img)):\n",
    "        result.append({'img':img[i], 'mask':mask[i], 'idx':i})\n",
    "    return result"
   ]
  },
  {
   "cell_type": "code",
   "execution_count": 4,
   "metadata": {},
   "outputs": [
    {
     "name": "stderr",
     "output_type": "stream",
     "text": [
      "100%|██████████| 10516/10516 [09:53<00:00, 17.72it/s]\n"
     ]
    }
   ],
   "source": [
    "x_tot,x2_tot = [],[]\n",
    "names = [name[:-10] for name in os.listdir(MASKS)]\n",
    "with zipfile.ZipFile(OUT_TRAIN, 'w') as img_out,\\\n",
    " zipfile.ZipFile(OUT_MASKS, 'w') as mask_out:\n",
    "    for name in tqdm(names):\n",
    "        img = skimage.io.MultiImage(os.path.join(TRAIN,name+'.tiff'))[-1]\n",
    "        mask = skimage.io.MultiImage(os.path.join(MASKS,name+'_mask.tiff'))[-1]\n",
    "        tiles = tile(img,mask)\n",
    "        for t in tiles:\n",
    "            img,mask,idx = t['img'],t['mask'],t['idx']\n",
    "            x_tot.append((img/255.0).reshape(-1,3).mean(0))\n",
    "            x2_tot.append(((img/255.0)**2).reshape(-1,3).mean(0)) \n",
    "            #if read with PIL RGB turns into BGR\n",
    "            img = cv2.imencode('.png',cv2.cvtColor(img, cv2.COLOR_RGB2BGR))[1]\n",
    "            img_out.writestr(f'{name}_{idx}.png', img)\n",
    "            mask = cv2.imencode('.png',mask[:,:,0])[1]\n",
    "            mask_out.writestr(f'{name}_{idx}.png', mask)"
   ]
  },
  {
   "cell_type": "code",
   "execution_count": null,
   "metadata": {},
   "outputs": [],
   "source": []
  }
 ],
 "metadata": {
  "kernelspec": {
   "display_name": "Python 3",
   "language": "python",
   "name": "python3"
  },
  "language_info": {
   "codemirror_mode": {
    "name": "ipython",
    "version": 3
   },
   "file_extension": ".py",
   "mimetype": "text/x-python",
   "name": "python",
   "nbconvert_exporter": "python",
   "pygments_lexer": "ipython3",
   "version": "3.6.9"
  }
 },
 "nbformat": 4,
 "nbformat_minor": 4
}
