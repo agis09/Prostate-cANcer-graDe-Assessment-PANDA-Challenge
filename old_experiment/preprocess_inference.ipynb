{
 "cells": [
  {
   "cell_type": "code",
   "execution_count": 1,
   "metadata": {},
   "outputs": [],
   "source": [
    "import os\n",
    "import time\n",
    "import skimage.io\n",
    "import numpy as np\n",
    "import pandas as pd\n",
    "# import cv2\n",
    "import PIL.Image\n",
    "import torch\n",
    "import torch.nn as nn\n",
    "import torch.nn.functional as F\n",
    "import torch.optim as optim\n",
    "from torch.optim import lr_scheduler\n",
    "from torch.utils.data import DataLoader, Dataset\n",
    "from torch.utils.data.sampler import SubsetRandomSampler, RandomSampler, SequentialSampler\n",
    "from warmup_scheduler import GradualWarmupScheduler\n",
    "from efficientnet_pytorch import model as enet\n",
    "import albumentations\n",
    "from sklearn.model_selection import StratifiedKFold\n",
    "import matplotlib.pyplot as plt\n",
    "from sklearn.metrics import cohen_kappa_score\n",
    "from tqdm import tqdm\n",
    "import copy\n",
    "from PIL import Image\n",
    "\n"
   ]
  },
  {
   "cell_type": "code",
   "execution_count": null,
   "metadata": {},
   "outputs": [],
   "source": []
  },
  {
   "cell_type": "code",
   "execution_count": 2,
   "metadata": {},
   "outputs": [
    {
     "name": "stdout",
     "output_type": "stream",
     "text": [
      "./PANDA_data/train_images\n"
     ]
    }
   ],
   "source": [
    "data_dir = './PANDA_data/'\n",
    "df_train = pd.read_csv(os.path.join(data_dir, 'train.csv'))\n",
    "df_test = pd.read_csv(os.path.join(data_dir, 'test.csv'))\n",
    "df_sub = pd.read_csv(os.path.join(data_dir, 'sample_submission.csv'))\n",
    "\n",
    "model_dir = './'\n",
    "image_folder = os.path.join(data_dir, 'test_images')\n",
    "is_test = os.path.exists(image_folder)  # IF test_images is not exists, we will use some train images.\n",
    "image_folder = image_folder if is_test else os.path.join(data_dir, 'train_images')\n",
    "\n",
    "df = df_test if is_test else df_train\n",
    "# df = df_test if is_test else df_train[df_train['data_provider']=='karolinska'].loc[:100]\n",
    "# df = df_test if is_test else df_train.loc[:100]\n",
    "image_size = 256\n",
    "batch_size = 8\n",
    "num_workers = 8\n",
    "out_dim = 6\n",
    "\n",
    "gpu_id = 1\n",
    "device = torch.device(f'cuda:{gpu_id}')\n",
    "\n",
    "print(image_folder)"
   ]
  },
  {
   "cell_type": "code",
   "execution_count": 3,
   "metadata": {},
   "outputs": [
    {
     "data": {
      "text/html": [
       "<div>\n",
       "<style scoped>\n",
       "    .dataframe tbody tr th:only-of-type {\n",
       "        vertical-align: middle;\n",
       "    }\n",
       "\n",
       "    .dataframe tbody tr th {\n",
       "        vertical-align: top;\n",
       "    }\n",
       "\n",
       "    .dataframe thead th {\n",
       "        text-align: right;\n",
       "    }\n",
       "</style>\n",
       "<table border=\"1\" class=\"dataframe\">\n",
       "  <thead>\n",
       "    <tr style=\"text-align: right;\">\n",
       "      <th></th>\n",
       "      <th>image_id</th>\n",
       "      <th>data_provider</th>\n",
       "      <th>isup_grade</th>\n",
       "      <th>gleason_score</th>\n",
       "    </tr>\n",
       "  </thead>\n",
       "  <tbody>\n",
       "    <tr>\n",
       "      <th>0</th>\n",
       "      <td>0005f7aaab2800f6170c399693a96917</td>\n",
       "      <td>karolinska</td>\n",
       "      <td>0</td>\n",
       "      <td>0+0</td>\n",
       "    </tr>\n",
       "    <tr>\n",
       "      <th>1</th>\n",
       "      <td>000920ad0b612851f8e01bcc880d9b3d</td>\n",
       "      <td>karolinska</td>\n",
       "      <td>0</td>\n",
       "      <td>0+0</td>\n",
       "    </tr>\n",
       "    <tr>\n",
       "      <th>2</th>\n",
       "      <td>0018ae58b01bdadc8e347995b69f99aa</td>\n",
       "      <td>radboud</td>\n",
       "      <td>4</td>\n",
       "      <td>4+4</td>\n",
       "    </tr>\n",
       "    <tr>\n",
       "      <th>3</th>\n",
       "      <td>001c62abd11fa4b57bf7a6c603a11bb9</td>\n",
       "      <td>karolinska</td>\n",
       "      <td>4</td>\n",
       "      <td>4+4</td>\n",
       "    </tr>\n",
       "    <tr>\n",
       "      <th>4</th>\n",
       "      <td>001d865e65ef5d2579c190a0e0350d8f</td>\n",
       "      <td>karolinska</td>\n",
       "      <td>0</td>\n",
       "      <td>0+0</td>\n",
       "    </tr>\n",
       "  </tbody>\n",
       "</table>\n",
       "</div>"
      ],
      "text/plain": [
       "                           image_id data_provider  isup_grade gleason_score\n",
       "0  0005f7aaab2800f6170c399693a96917    karolinska           0           0+0\n",
       "1  000920ad0b612851f8e01bcc880d9b3d    karolinska           0           0+0\n",
       "2  0018ae58b01bdadc8e347995b69f99aa       radboud           4           4+4\n",
       "3  001c62abd11fa4b57bf7a6c603a11bb9    karolinska           4           4+4\n",
       "4  001d865e65ef5d2579c190a0e0350d8f    karolinska           0           0+0"
      ]
     },
     "execution_count": 3,
     "metadata": {},
     "output_type": "execute_result"
    }
   ],
   "source": [
    "df.head()"
   ]
  },
  {
   "cell_type": "code",
   "execution_count": 4,
   "metadata": {},
   "outputs": [
    {
     "name": "stderr",
     "output_type": "stream",
     "text": [
      "100%|██████████| 10616/10616 [10:55<00:00, 16.20it/s]\n"
     ]
    }
   ],
   "source": [
    "crop_size=256\n",
    "img_list=[]\n",
    "for img_id in tqdm(df['image_id'].values):\n",
    "    img=skimage.io.MultiImage(os.path.join(image_folder,img_id)+'.tiff')\n",
    "    for i in range(img[1].shape[0]//crop_size+1):\n",
    "        for j in range(img[1].shape[1]//crop_size+1):\n",
    "            img_list.append(img_id+'_'+str(i)+'_'+str(j))\n",
    "df_cropped=pd.DataFrame({'image_id':img_list})"
   ]
  },
  {
   "cell_type": "code",
   "execution_count": 5,
   "metadata": {},
   "outputs": [
    {
     "data": {
      "text/html": [
       "<div>\n",
       "<style scoped>\n",
       "    .dataframe tbody tr th:only-of-type {\n",
       "        vertical-align: middle;\n",
       "    }\n",
       "\n",
       "    .dataframe tbody tr th {\n",
       "        vertical-align: top;\n",
       "    }\n",
       "\n",
       "    .dataframe thead th {\n",
       "        text-align: right;\n",
       "    }\n",
       "</style>\n",
       "<table border=\"1\" class=\"dataframe\">\n",
       "  <thead>\n",
       "    <tr style=\"text-align: right;\">\n",
       "      <th></th>\n",
       "      <th>image_id</th>\n",
       "    </tr>\n",
       "  </thead>\n",
       "  <tbody>\n",
       "    <tr>\n",
       "      <th>0</th>\n",
       "      <td>0005f7aaab2800f6170c399693a96917_0_0</td>\n",
       "    </tr>\n",
       "    <tr>\n",
       "      <th>1</th>\n",
       "      <td>0005f7aaab2800f6170c399693a96917_0_1</td>\n",
       "    </tr>\n",
       "    <tr>\n",
       "      <th>2</th>\n",
       "      <td>0005f7aaab2800f6170c399693a96917_0_2</td>\n",
       "    </tr>\n",
       "    <tr>\n",
       "      <th>3</th>\n",
       "      <td>0005f7aaab2800f6170c399693a96917_0_3</td>\n",
       "    </tr>\n",
       "    <tr>\n",
       "      <th>4</th>\n",
       "      <td>0005f7aaab2800f6170c399693a96917_0_4</td>\n",
       "    </tr>\n",
       "  </tbody>\n",
       "</table>\n",
       "</div>"
      ],
      "text/plain": [
       "                               image_id\n",
       "0  0005f7aaab2800f6170c399693a96917_0_0\n",
       "1  0005f7aaab2800f6170c399693a96917_0_1\n",
       "2  0005f7aaab2800f6170c399693a96917_0_2\n",
       "3  0005f7aaab2800f6170c399693a96917_0_3\n",
       "4  0005f7aaab2800f6170c399693a96917_0_4"
      ]
     },
     "execution_count": 5,
     "metadata": {},
     "output_type": "execute_result"
    }
   ],
   "source": [
    "df_cropped.head()"
   ]
  },
  {
   "cell_type": "code",
   "execution_count": 6,
   "metadata": {},
   "outputs": [
    {
     "name": "stdout",
     "output_type": "stream",
     "text": [
      "./efficient_base_256_best_fold0.pth loaded!\n"
     ]
    }
   ],
   "source": [
    "class enetv2(nn.Module):\n",
    "    def __init__(self, backbone, out_dim):\n",
    "        super(enetv2, self).__init__()\n",
    "        self.enet = enet.EfficientNet.from_name(backbone)\n",
    "        self.myfc = nn.Linear(self.enet._fc.in_features, out_dim)\n",
    "        self.enet._fc = nn.Identity()\n",
    "\n",
    "    def extract(self, x):\n",
    "        return self.enet(x)\n",
    "\n",
    "    def forward(self, x):\n",
    "        x = self.extract(x)\n",
    "        x = self.myfc(x)\n",
    "        return x\n",
    "#         return F.log_softmax(x,dim=0)\n",
    "    \n",
    "    \n",
    "def load_models(model_files):\n",
    "    models = []\n",
    "    for model_f in model_files:\n",
    "        model_f = os.path.join(model_dir, model_f)\n",
    "        backbone = 'efficientnet-b0'\n",
    "        model = enetv2(backbone, out_dim=out_dim)\n",
    "        model.load_state_dict(torch.load(model_f, map_location=lambda storage, loc: storage), strict=True)\n",
    "        model.eval()\n",
    "        model.to(device)\n",
    "        models.append(model)\n",
    "        print(f'{model_f} loaded!')\n",
    "    return models\n",
    "\n",
    "\n",
    "model_files = [\n",
    "    'efficient_base_256_best_fold0.pth'\n",
    "]\n",
    "\n",
    "models = load_models(model_files)"
   ]
  },
  {
   "cell_type": "code",
   "execution_count": 7,
   "metadata": {},
   "outputs": [],
   "source": [
    "def padding_img(img_tmp):\n",
    "        pad=crop_size-img_tmp.shape[0]\n",
    "        pad=np.full((pad,img_tmp.shape[1],img_tmp.shape[2]),255)\n",
    "        img_tmp=np.concatenate([img_tmp,pad],axis=0)\n",
    "        pad=crop_size-img_tmp.shape[1]\n",
    "        pad=np.full((img_tmp.shape[0],pad,img_tmp.shape[2]),255)\n",
    "        img_tmp=np.concatenate([img_tmp,pad],axis=1)\n",
    "        return img_tmp"
   ]
  },
  {
   "cell_type": "code",
   "execution_count": 8,
   "metadata": {},
   "outputs": [],
   "source": [
    "class PANDADataset(Dataset):\n",
    "    def __init__(self,\n",
    "                 df,\n",
    "                 image_size,\n",
    "                 crop_size,\n",
    "                 rand=False,\n",
    "                 transform=None,\n",
    "                ):\n",
    "\n",
    "        self.df = df.reset_index(drop=True)\n",
    "        self.image_size = image_size\n",
    "        self.rand = rand\n",
    "        self.transform = transform\n",
    "        self.crop_size=crop_size\n",
    "        self.image=None\n",
    "        self.pre_img_id=None\n",
    "\n",
    "    def __len__(self):\n",
    "        return self.df.shape[0]\n",
    "\n",
    "    def __getitem__(self, index):\n",
    "        row = self.df.iloc[index]\n",
    "        img_id = row.image_id\n",
    "        i=int(img_id.split('_')[1])\n",
    "        j=int(img_id.split('_')[2])\n",
    "        img_id=img_id.split('_')[0]\n",
    "        \n",
    "        if img_id != self.pre_img_id:\n",
    "            self.pre_img_id=img_id\n",
    "            self.image=os.path.join(image_folder, img_id)\n",
    "            self.image = skimage.io.MultiImage(os.path.join(image_folder, f'{img_id}.tiff'))[1]\n",
    "        \n",
    "        image=self.image[i*self.crop_size:(i+1)*self.crop_size,j*self.crop_size:(j+1)*self.crop_size,:]\n",
    "#         print(np.count_nonzero(image==255))\n",
    "        if image.shape[0]<self.crop_size or image.shape[1]<self.crop_size:\n",
    "                image=padding_img(image)\n",
    "        \n",
    "        image=Image.fromarray(image.astype('uint8'))\n",
    "        image=image.resize((self.image_size,self.image_size))\n",
    "        image=np.asarray(image)\n",
    "        \n",
    "        if self.transform is not None:\n",
    "            image = self.transform(image=image)['image']\n",
    "        image = image.astype(np.float32)\n",
    "        image /= 255\n",
    "        image = image.transpose(2, 0, 1)\n",
    "\n",
    "        return torch.tensor(image)\n",
    "\n"
   ]
  },
  {
   "cell_type": "code",
   "execution_count": 9,
   "metadata": {},
   "outputs": [
    {
     "data": {
      "image/png": "[encoded data removed]",
      "text/plain": [
       "<Figure size 1440x720 with 5 Axes>"
      ]
     },
     "metadata": {
      "needs_background": "light"
     },
     "output_type": "display_data"
    },
    {
     "data": {
      "image/png": "[encoded data removed]",
      "text/plain": [
       "<Figure size 1440x720 with 5 Axes>"
      ]
     },
     "metadata": {
      "needs_background": "light"
     },
     "output_type": "display_data"
    }
   ],
   "source": [
    "if not is_test:\n",
    "    dataset_show = PANDADataset(df_cropped,image_size,crop_size)\n",
    "    from pylab import rcParams\n",
    "    rcParams['figure.figsize'] = 20,10\n",
    "    for i in range(2):\n",
    "        f, axarr = plt.subplots(1,5)\n",
    "        for p in range(5):\n",
    "            idx = np.random.randint(0, len(dataset_show))\n",
    "            img = dataset_show[idx]\n",
    "            axarr[p].imshow(img.transpose(0, 1).transpose(1,2).squeeze())\n",
    "            axarr[p].set_title(str(idx))"
   ]
  },
  {
   "cell_type": "code",
   "execution_count": 10,
   "metadata": {},
   "outputs": [],
   "source": [
    "dataset = PANDADataset(df_cropped, image_size,crop_size)\n",
    "loader = DataLoader(dataset, batch_size=batch_size, num_workers=num_workers, shuffle=False)"
   ]
  },
  {
   "cell_type": "code",
   "execution_count": 11,
   "metadata": {},
   "outputs": [
    {
     "name": "stderr",
     "output_type": "stream",
     "text": [
      "100%|██████████| 624549/624549 [3:30:30<00:00, 49.45it/s]  \n"
     ]
    }
   ],
   "source": [
    "LOGITS = []\n",
    "PREDS=[]\n",
    "with torch.no_grad():\n",
    "    for data in tqdm(loader):\n",
    "        data = data.to(device)\n",
    "        logits = models[0](data)\n",
    "        LOGITS.append(logits)\n",
    "        pred=logits.argmax(1).detach()\n",
    "        PREDS.append(pred)\n",
    "\n",
    "LOGITS = torch.cat(LOGITS).cpu().numpy()\n",
    "PREDS = torch.cat(PREDS).cpu().numpy()"
   ]
  },
  {
   "cell_type": "code",
   "execution_count": 12,
   "metadata": {},
   "outputs": [],
   "source": [
    "uniq,cnt=np.unique(PREDS,return_counts=True)"
   ]
  },
  {
   "cell_type": "code",
   "execution_count": 13,
   "metadata": {},
   "outputs": [
    {
     "data": {
      "text/plain": [
       "array([0, 1, 2, 3, 4, 5])"
      ]
     },
     "execution_count": 13,
     "metadata": {},
     "output_type": "execute_result"
    }
   ],
   "source": [
    "uniq"
   ]
  },
  {
   "cell_type": "code",
   "execution_count": 14,
   "metadata": {},
   "outputs": [
    {
     "data": {
      "text/plain": [
       "array([4394594,   59855,  244952,   71278,  201562,   24151])"
      ]
     },
     "execution_count": 14,
     "metadata": {},
     "output_type": "execute_result"
    }
   ],
   "source": [
    "cnt"
   ]
  },
  {
   "cell_type": "code",
   "execution_count": 15,
   "metadata": {},
   "outputs": [
    {
     "data": {
      "text/plain": [
       "4996392"
      ]
     },
     "execution_count": 15,
     "metadata": {},
     "output_type": "execute_result"
    }
   ],
   "source": [
    "len(PREDS)"
   ]
  },
  {
   "cell_type": "code",
   "execution_count": 16,
   "metadata": {},
   "outputs": [],
   "source": [
    "imgid=[imgid.split('_')[0] for imgid in df_cropped['image_id'].values]\n",
    "idx1=[imgid.split('_')[1] for imgid in df_cropped['image_id'].values]\n",
    "idx2=[imgid.split('_')[2] for imgid in df_cropped['image_id'].values]"
   ]
  },
  {
   "cell_type": "code",
   "execution_count": 17,
   "metadata": {},
   "outputs": [],
   "source": [
    "tmp=pd.DataFrame({'image_id':imgid,\n",
    "              'idx1':idx1,\n",
    "              'idx2':idx2,\n",
    "              'gleason':PREDS})"
   ]
  },
  {
   "cell_type": "code",
   "execution_count": 18,
   "metadata": {},
   "outputs": [],
   "source": [
    "tmp.to_csv('pred_gleason_256.csv',index=False)"
   ]
  },
  {
   "cell_type": "code",
   "execution_count": 19,
   "metadata": {},
   "outputs": [
    {
     "data": {
      "text/html": [
       "<div>\n",
       "<style scoped>\n",
       "    .dataframe tbody tr th:only-of-type {\n",
       "        vertical-align: middle;\n",
       "    }\n",
       "\n",
       "    .dataframe tbody tr th {\n",
       "        vertical-align: top;\n",
       "    }\n",
       "\n",
       "    .dataframe thead th {\n",
       "        text-align: right;\n",
       "    }\n",
       "</style>\n",
       "<table border=\"1\" class=\"dataframe\">\n",
       "  <thead>\n",
       "    <tr style=\"text-align: right;\">\n",
       "      <th></th>\n",
       "      <th>image_id</th>\n",
       "      <th>idx1</th>\n",
       "      <th>idx2</th>\n",
       "      <th>gleason</th>\n",
       "    </tr>\n",
       "  </thead>\n",
       "  <tbody>\n",
       "    <tr>\n",
       "      <th>0</th>\n",
       "      <td>0005f7aaab2800f6170c399693a96917</td>\n",
       "      <td>0</td>\n",
       "      <td>0</td>\n",
       "      <td>0</td>\n",
       "    </tr>\n",
       "    <tr>\n",
       "      <th>1</th>\n",
       "      <td>0005f7aaab2800f6170c399693a96917</td>\n",
       "      <td>0</td>\n",
       "      <td>1</td>\n",
       "      <td>0</td>\n",
       "    </tr>\n",
       "    <tr>\n",
       "      <th>2</th>\n",
       "      <td>0005f7aaab2800f6170c399693a96917</td>\n",
       "      <td>0</td>\n",
       "      <td>2</td>\n",
       "      <td>0</td>\n",
       "    </tr>\n",
       "    <tr>\n",
       "      <th>3</th>\n",
       "      <td>0005f7aaab2800f6170c399693a96917</td>\n",
       "      <td>0</td>\n",
       "      <td>3</td>\n",
       "      <td>0</td>\n",
       "    </tr>\n",
       "    <tr>\n",
       "      <th>4</th>\n",
       "      <td>0005f7aaab2800f6170c399693a96917</td>\n",
       "      <td>0</td>\n",
       "      <td>4</td>\n",
       "      <td>0</td>\n",
       "    </tr>\n",
       "    <tr>\n",
       "      <th>...</th>\n",
       "      <td>...</td>\n",
       "      <td>...</td>\n",
       "      <td>...</td>\n",
       "      <td>...</td>\n",
       "    </tr>\n",
       "    <tr>\n",
       "      <th>4996387</th>\n",
       "      <td>ffe9bcababc858e04840669e788065a1</td>\n",
       "      <td>30</td>\n",
       "      <td>2</td>\n",
       "      <td>0</td>\n",
       "    </tr>\n",
       "    <tr>\n",
       "      <th>4996388</th>\n",
       "      <td>ffe9bcababc858e04840669e788065a1</td>\n",
       "      <td>30</td>\n",
       "      <td>3</td>\n",
       "      <td>0</td>\n",
       "    </tr>\n",
       "    <tr>\n",
       "      <th>4996389</th>\n",
       "      <td>ffe9bcababc858e04840669e788065a1</td>\n",
       "      <td>30</td>\n",
       "      <td>4</td>\n",
       "      <td>0</td>\n",
       "    </tr>\n",
       "    <tr>\n",
       "      <th>4996390</th>\n",
       "      <td>ffe9bcababc858e04840669e788065a1</td>\n",
       "      <td>30</td>\n",
       "      <td>5</td>\n",
       "      <td>0</td>\n",
       "    </tr>\n",
       "    <tr>\n",
       "      <th>4996391</th>\n",
       "      <td>ffe9bcababc858e04840669e788065a1</td>\n",
       "      <td>30</td>\n",
       "      <td>6</td>\n",
       "      <td>0</td>\n",
       "    </tr>\n",
       "  </tbody>\n",
       "</table>\n",
       "<p>4996392 rows × 4 columns</p>\n",
       "</div>"
      ],
      "text/plain": [
       "                                 image_id idx1 idx2  gleason\n",
       "0        0005f7aaab2800f6170c399693a96917    0    0        0\n",
       "1        0005f7aaab2800f6170c399693a96917    0    1        0\n",
       "2        0005f7aaab2800f6170c399693a96917    0    2        0\n",
       "3        0005f7aaab2800f6170c399693a96917    0    3        0\n",
       "4        0005f7aaab2800f6170c399693a96917    0    4        0\n",
       "...                                   ...  ...  ...      ...\n",
       "4996387  ffe9bcababc858e04840669e788065a1   30    2        0\n",
       "4996388  ffe9bcababc858e04840669e788065a1   30    3        0\n",
       "4996389  ffe9bcababc858e04840669e788065a1   30    4        0\n",
       "4996390  ffe9bcababc858e04840669e788065a1   30    5        0\n",
       "4996391  ffe9bcababc858e04840669e788065a1   30    6        0\n",
       "\n",
       "[4996392 rows x 4 columns]"
      ]
     },
     "execution_count": 19,
     "metadata": {},
     "output_type": "execute_result"
    }
   ],
   "source": [
    "tmp"
   ]
  },
  {
   "cell_type": "code",
   "execution_count": 20,
   "metadata": {},
   "outputs": [],
   "source": [
    "# pre_img_id=None\n",
    "# predict=[]\n",
    "# res=[]\n",
    "# id_list=[]\n",
    "# for img_id,pred in tqdm(zip(df_cropped['image_id'],LOGITS)):\n",
    "#     if pre_img_id!=img_id.split('_')[0]:\n",
    "#         if pre_img_id is not None:\n",
    "#             predict.append(res)\n",
    "#         res=pred\n",
    "#         pre_img_id=img_id.split('_')[0]\n",
    "#         id_list.append(pre_img_id)\n",
    "        \n",
    "#     res+=pred\n",
    "    \n",
    "# predict.append(res)"
   ]
  },
  {
   "cell_type": "code",
   "execution_count": 21,
   "metadata": {},
   "outputs": [],
   "source": [
    "# tmp=pd.DataFrame(predict,columns=(['Gleason '+str(i) for i in range(0,6)]))\n",
    "# pd.concat([df.reset_index(drop=True)[['image_id','isup_grade']],tmp],axis=1).to_csv('pred_isupgrade.csv',index=False)"
   ]
  },
  {
   "cell_type": "code",
   "execution_count": null,
   "metadata": {},
   "outputs": [],
   "source": []
  }
 ],
 "metadata": {
  "kernelspec": {
   "display_name": "Python 3",
   "language": "python",
   "name": "python3"
  },
  "language_info": {
   "codemirror_mode": {
    "name": "ipython",
    "version": 3
   },
   "file_extension": ".py",
   "mimetype": "text/x-python",
   "name": "python",
   "nbconvert_exporter": "python",
   "pygments_lexer": "ipython3",
   "version": "3.6.9"
  }
 },
 "nbformat": 4,
 "nbformat_minor": 4
}
