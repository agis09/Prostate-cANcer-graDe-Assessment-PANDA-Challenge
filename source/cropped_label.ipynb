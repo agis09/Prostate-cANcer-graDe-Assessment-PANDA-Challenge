{
 "cells": [
  {
   "cell_type": "code",
   "execution_count": 1,
   "metadata": {},
   "outputs": [],
   "source": [
    "from glob import glob\n",
    "import pandas as pd\n",
    "import skimage.io\n",
    "import numpy as np\n",
    "from tqdm import tqdm"
   ]
  },
  {
   "cell_type": "code",
   "execution_count": 2,
   "metadata": {},
   "outputs": [
    {
     "name": "stderr",
     "output_type": "stream",
     "text": [
      "100%|██████████| 260352/260352 [07:15<00:00, 597.42it/s]\n"
     ]
    }
   ],
   "source": [
    "ids=[]\n",
    "labels=[]\n",
    "for name in tqdm(glob('../cropped_img/mask_256_mod/*')):\n",
    "    mask=skimage.io.MultiImage(name)\n",
    "    label=np.unique(np.asarray(mask))[-1]\n",
    "    ids.append(name.split('/')[-1])\n",
    "    labels.append(label)\n",
    "    "
   ]
  },
  {
   "cell_type": "code",
   "execution_count": 3,
   "metadata": {},
   "outputs": [],
   "source": [
    "df=pd.DataFrame({'image_id':ids,\n",
    "                 'label':labels})"
   ]
  },
  {
   "cell_type": "code",
   "execution_count": 4,
   "metadata": {},
   "outputs": [
    {
     "data": {
      "text/html": [
       "<div>\n",
       "<style scoped>\n",
       "    .dataframe tbody tr th:only-of-type {\n",
       "        vertical-align: middle;\n",
       "    }\n",
       "\n",
       "    .dataframe tbody tr th {\n",
       "        vertical-align: top;\n",
       "    }\n",
       "\n",
       "    .dataframe thead th {\n",
       "        text-align: right;\n",
       "    }\n",
       "</style>\n",
       "<table border=\"1\" class=\"dataframe\">\n",
       "  <thead>\n",
       "    <tr style=\"text-align: right;\">\n",
       "      <th></th>\n",
       "      <th>image_id</th>\n",
       "      <th>label</th>\n",
       "    </tr>\n",
       "  </thead>\n",
       "  <tbody>\n",
       "    <tr>\n",
       "      <th>0</th>\n",
       "      <td>6071aa8ba6c71f822201674f662a2058_44.png</td>\n",
       "      <td>2</td>\n",
       "    </tr>\n",
       "    <tr>\n",
       "      <th>1</th>\n",
       "      <td>5d5ba6a776e985a917f0028258d6593a_13.png</td>\n",
       "      <td>1</td>\n",
       "    </tr>\n",
       "    <tr>\n",
       "      <th>2</th>\n",
       "      <td>e89fd05c02c2297653d93f9bdaa71961_0.png</td>\n",
       "      <td>2</td>\n",
       "    </tr>\n",
       "    <tr>\n",
       "      <th>3</th>\n",
       "      <td>9b238129762edd83f472e5b3abf9e639_9.png</td>\n",
       "      <td>2</td>\n",
       "    </tr>\n",
       "    <tr>\n",
       "      <th>4</th>\n",
       "      <td>f83af16db53783f37f6614cf3bc3e5af_44.png</td>\n",
       "      <td>5</td>\n",
       "    </tr>\n",
       "    <tr>\n",
       "      <th>...</th>\n",
       "      <td>...</td>\n",
       "      <td>...</td>\n",
       "    </tr>\n",
       "    <tr>\n",
       "      <th>260347</th>\n",
       "      <td>a21ea7caca40bc45f043ed27ae2b573d_11.png</td>\n",
       "      <td>3</td>\n",
       "    </tr>\n",
       "    <tr>\n",
       "      <th>260348</th>\n",
       "      <td>38be72b06e0e96e493a90c4f583a6e10_80.png</td>\n",
       "      <td>0</td>\n",
       "    </tr>\n",
       "    <tr>\n",
       "      <th>260349</th>\n",
       "      <td>b0db6c7062db390ce41581728f2ef122_5.png</td>\n",
       "      <td>0</td>\n",
       "    </tr>\n",
       "    <tr>\n",
       "      <th>260350</th>\n",
       "      <td>eb341a42f1e27d3af125fa1bcba8c799_25.png</td>\n",
       "      <td>3</td>\n",
       "    </tr>\n",
       "    <tr>\n",
       "      <th>260351</th>\n",
       "      <td>ee4492e15e54bfe1a23bc3af78158897_63.png</td>\n",
       "      <td>2</td>\n",
       "    </tr>\n",
       "  </tbody>\n",
       "</table>\n",
       "<p>260352 rows × 2 columns</p>\n",
       "</div>"
      ],
      "text/plain": [
       "                                       image_id  label\n",
       "0       6071aa8ba6c71f822201674f662a2058_44.png      2\n",
       "1       5d5ba6a776e985a917f0028258d6593a_13.png      1\n",
       "2        e89fd05c02c2297653d93f9bdaa71961_0.png      2\n",
       "3        9b238129762edd83f472e5b3abf9e639_9.png      2\n",
       "4       f83af16db53783f37f6614cf3bc3e5af_44.png      5\n",
       "...                                         ...    ...\n",
       "260347  a21ea7caca40bc45f043ed27ae2b573d_11.png      3\n",
       "260348  38be72b06e0e96e493a90c4f583a6e10_80.png      0\n",
       "260349   b0db6c7062db390ce41581728f2ef122_5.png      0\n",
       "260350  eb341a42f1e27d3af125fa1bcba8c799_25.png      3\n",
       "260351  ee4492e15e54bfe1a23bc3af78158897_63.png      2\n",
       "\n",
       "[260352 rows x 2 columns]"
      ]
     },
     "execution_count": 4,
     "metadata": {},
     "output_type": "execute_result"
    }
   ],
   "source": [
    "df"
   ]
  },
  {
   "cell_type": "code",
   "execution_count": 5,
   "metadata": {},
   "outputs": [],
   "source": [
    "uniq,cnt=np.unique(labels, return_counts=True)"
   ]
  },
  {
   "cell_type": "code",
   "execution_count": 6,
   "metadata": {},
   "outputs": [
    {
     "data": {
      "text/plain": [
       "array([0, 1, 2, 3, 4, 5], dtype=uint8)"
      ]
     },
     "execution_count": 6,
     "metadata": {},
     "output_type": "execute_result"
    }
   ],
   "source": [
    "uniq"
   ]
  },
  {
   "cell_type": "code",
   "execution_count": 7,
   "metadata": {},
   "outputs": [
    {
     "data": {
      "text/plain": [
       "array([41437, 16645, 87553, 33018, 60882, 20817])"
      ]
     },
     "execution_count": 7,
     "metadata": {},
     "output_type": "execute_result"
    }
   ],
   "source": [
    "cnt"
   ]
  },
  {
   "cell_type": "code",
   "execution_count": 8,
   "metadata": {},
   "outputs": [],
   "source": [
    "df.to_csv('../cropped_img/labels_256_mod.csv',index=False)"
   ]
  },
  {
   "cell_type": "code",
   "execution_count": null,
   "metadata": {},
   "outputs": [],
   "source": []
  }
 ],
 "metadata": {
  "kernelspec": {
   "display_name": "Python 3",
   "language": "python",
   "name": "python3"
  },
  "language_info": {
   "codemirror_mode": {
    "name": "ipython",
    "version": 3
   },
   "file_extension": ".py",
   "mimetype": "text/x-python",
   "name": "python",
   "nbconvert_exporter": "python",
   "pygments_lexer": "ipython3",
   "version": "3.6.9"
  }
 },
 "nbformat": 4,
 "nbformat_minor": 4
}
