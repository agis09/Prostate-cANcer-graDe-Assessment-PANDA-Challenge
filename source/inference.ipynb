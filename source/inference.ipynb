{
 "cells": [
  {
   "cell_type": "code",
   "execution_count": 10,
   "metadata": {},
   "outputs": [],
   "source": [
    "import os\n",
    "import skimage.io\n",
    "import numpy as np\n",
    "import pandas as pd\n",
    "import torch\n",
    "from tqdm import tqdm\n",
    "from glob import glob\n",
    "import sys\n",
    "sys.path.append('../input/sources')\n",
    "from preprocess_model import load_models as prep_models\n",
    "from preprocess_load_data import inference_PANDADataset as prep_panda\n",
    "from torch.utils.data import DataLoader"
   ]
  },
  {
   "cell_type": "code",
   "execution_count": 2,
   "metadata": {},
   "outputs": [],
   "source": [
    "crop_size=512\n",
    "image_size = 512\n",
    "data_dir = '../input/prostate-cancer-grade-assessment/'\n",
    "df_train = pd.read_csv(os.path.join(data_dir, 'train.csv'))\n",
    "df_test = pd.read_csv(os.path.join(data_dir, 'test.csv'))\n",
    "\n",
    "image_folder = os.path.join(data_dir, 'test_images/')\n",
    "is_test = os.path.exists(image_folder)  # IF test_images is not exists, we will use some train images.\n",
    "image_folder = image_folder if is_test else os.path.join(data_dir, 'train_images/')\n",
    "\n",
    "model_dir='../result/'\n",
    "\n",
    "df = df_test if is_test else df_train.loc[:9]\n"
   ]
  },
  {
   "cell_type": "code",
   "execution_count": 3,
   "metadata": {},
   "outputs": [],
   "source": [
    "\n",
    "def inference_gleason():\n",
    "\n",
    "    batch_size = 12\n",
    "    num_workers = 12\n",
    "    out_dim = 6\n",
    "\n",
    "    backborn='efficientnet-b0'\n",
    "\n",
    "    device = torch.device('cuda')\n",
    "\n",
    "    img_list=[]\n",
    "    for img_id in tqdm(df['image_id'].values):\n",
    "        img=skimage.io.MultiImage(os.path.join(image_folder,img_id)+'.tiff')[1]\n",
    "        for i in range(img.shape[0]//crop_size+1):\n",
    "            for j in range(img.shape[1]//crop_size+1):\n",
    "                img_list.append(img_id+'_'+str(i)+'_'+str(j))\n",
    "\n",
    "    df_cropped=pd.DataFrame({'image_id':img_list})\n",
    "\n",
    "    model_files = [\n",
    "        'efficientnet-b0_preprocess_512to512_best_fold0.pth'\n",
    "    ]\n",
    "\n",
    "    models = prep_models(model_files,model_dir,out_dim,device,backborn)\n",
    "\n",
    "    dataset = prep_panda(df_cropped, image_size,crop_size,image_folder)\n",
    "    loader = DataLoader(dataset, batch_size=batch_size, num_workers=num_workers, shuffle=False)\n",
    "\n",
    "    LOGITS = []\n",
    "    PREDS=[]\n",
    "    with torch.no_grad():\n",
    "        for data in tqdm(loader):\n",
    "            data = data.to(device)\n",
    "            logits = models[0](data)\n",
    "            LOGITS.append(logits)\n",
    "            pred=logits.argmax(1).detach()\n",
    "            PREDS.append(pred)\n",
    "\n",
    "    LOGITS = torch.cat(LOGITS).cpu().numpy()\n",
    "    PREDS = torch.cat(PREDS).cpu().numpy()\n",
    "\n",
    "    imgid=[imgid.split('_')[0] for imgid in df_cropped['image_id'].values]\n",
    "    idx1=[imgid.split('_')[1] for imgid in df_cropped['image_id'].values]\n",
    "    idx2=[imgid.split('_')[2] for imgid in df_cropped['image_id'].values]\n",
    "\n",
    "    tmp=pd.DataFrame({'image_id':imgid,\n",
    "                'idx1':np.array(idx1).astype(int),\n",
    "                'idx2':np.array(idx2).astype(int),\n",
    "                'gleason':PREDS})\n",
    "\n",
    "    return tmp"
   ]
  },
  {
   "cell_type": "code",
   "execution_count": 4,
   "metadata": {},
   "outputs": [
    {
     "name": "stderr",
     "output_type": "stream",
     "text": [
      "100%|██████████| 10/10 [00:00<00:00, 12.24it/s]\n",
      "  0%|          | 0/128 [00:00<?, ?it/s]"
     ]
    },
    {
     "name": "stdout",
     "output_type": "stream",
     "text": [
      "../result/efficientnet-b0_preprocess_512to512_best_fold0.pth loaded!\n"
     ]
    },
    {
     "name": "stderr",
     "output_type": "stream",
     "text": [
      "100%|██████████| 128/128 [00:13<00:00,  9.53it/s]\n"
     ]
    }
   ],
   "source": [
    "df_gleason=inference_gleason()"
   ]
  },
  {
   "cell_type": "code",
   "execution_count": 8,
   "metadata": {},
   "outputs": [
    {
     "name": "stderr",
     "output_type": "stream",
     "text": [
      "  0%|          | 0/3 [00:00<?, ?it/s]"
     ]
    },
    {
     "name": "stdout",
     "output_type": "stream",
     "text": [
      "../result/efficientnet-b0_train_512to1536_best_fold0.pth loaded!\n"
     ]
    },
    {
     "name": "stderr",
     "output_type": "stream",
     "text": [
      "100%|██████████| 3/3 [00:01<00:00,  1.75it/s]\n",
      "/usr/local/lib/python3.6/dist-packages/ipykernel_launcher.py:39: SettingWithCopyWarning: \n",
      "A value is trying to be set on a copy of a slice from a DataFrame.\n",
      "Try using .loc[row_indexer,col_indexer] = value instead\n",
      "\n",
      "See the caveats in the documentation: https://pandas.pydata.org/pandas-docs/stable/user_guide/indexing.html#returning-a-view-versus-a-copy\n"
     ]
    }
   ],
   "source": [
    "from main_model import load_models as inference_model\n",
    "from main_load_data import PANDADataset\n",
    "\n",
    "crop_size=512\n",
    "n_split=4 # square number\n",
    "n_tiles=36\n",
    "tile_size=256\n",
    "image_size = tile_size*int(np.sqrt(n_tiles))\n",
    "batch_size = 4\n",
    "num_workers = 4\n",
    "out_dim = 5\n",
    "gpu_id =0\n",
    "device = torch.device(f'cuda:{gpu_id}')\n",
    "\n",
    "enet_type = 'efficientnet-b0'\n",
    "kernel_type = enet_type+'_train_'+str(crop_size)+'to'+str(image_size)\n",
    "\n",
    "model_files = [\n",
    "            'efficientnet-b0_train_512to1536_best_fold0.pth'\n",
    "            ]\n",
    "models = inference_model(model_files,model_dir,out_dim,device,enet_type)\n",
    "\n",
    "dataset = PANDADataset(df , df_gleason, image_size, n_tiles,image_folder,\n",
    "                                tile_size,crop_size,n_split,prediction=True,transform=None)\n",
    "loader=DataLoader(dataset, batch_size=batch_size, num_workers=num_workers)\n",
    "\n",
    "LOGITS = []\n",
    "PREDS=[]\n",
    "with torch.no_grad():\n",
    "    for data in tqdm(loader):\n",
    "        data = data.to(device)\n",
    "        logits = models[0](data)\n",
    "        LOGITS.append(logits)\n",
    "\n",
    "LOGITS = torch.cat(LOGITS).sigmoid().cpu() \n",
    "PREDS = LOGITS.sum(1).round().numpy()\n",
    "\n",
    "\n",
    "df['isup_grade'] = PREDS.astype(int)"
   ]
  },
  {
   "cell_type": "code",
   "execution_count": 9,
   "metadata": {},
   "outputs": [
    {
     "data": {
      "text/html": [
       "<div>\n",
       "<style scoped>\n",
       "    .dataframe tbody tr th:only-of-type {\n",
       "        vertical-align: middle;\n",
       "    }\n",
       "\n",
       "    .dataframe tbody tr th {\n",
       "        vertical-align: top;\n",
       "    }\n",
       "\n",
       "    .dataframe thead th {\n",
       "        text-align: right;\n",
       "    }\n",
       "</style>\n",
       "<table border=\"1\" class=\"dataframe\">\n",
       "  <thead>\n",
       "    <tr style=\"text-align: right;\">\n",
       "      <th></th>\n",
       "      <th>image_id</th>\n",
       "      <th>isup_grade</th>\n",
       "    </tr>\n",
       "  </thead>\n",
       "  <tbody>\n",
       "    <tr>\n",
       "      <th>0</th>\n",
       "      <td>0005f7aaab2800f6170c399693a96917</td>\n",
       "      <td>0</td>\n",
       "    </tr>\n",
       "    <tr>\n",
       "      <th>1</th>\n",
       "      <td>000920ad0b612851f8e01bcc880d9b3d</td>\n",
       "      <td>0</td>\n",
       "    </tr>\n",
       "    <tr>\n",
       "      <th>2</th>\n",
       "      <td>0018ae58b01bdadc8e347995b69f99aa</td>\n",
       "      <td>4</td>\n",
       "    </tr>\n",
       "    <tr>\n",
       "      <th>3</th>\n",
       "      <td>001c62abd11fa4b57bf7a6c603a11bb9</td>\n",
       "      <td>4</td>\n",
       "    </tr>\n",
       "    <tr>\n",
       "      <th>4</th>\n",
       "      <td>001d865e65ef5d2579c190a0e0350d8f</td>\n",
       "      <td>0</td>\n",
       "    </tr>\n",
       "    <tr>\n",
       "      <th>5</th>\n",
       "      <td>002a4db09dad406c85505a00fb6f6144</td>\n",
       "      <td>1</td>\n",
       "    </tr>\n",
       "    <tr>\n",
       "      <th>6</th>\n",
       "      <td>003046e27c8ead3e3db155780dc5498e</td>\n",
       "      <td>1</td>\n",
       "    </tr>\n",
       "    <tr>\n",
       "      <th>7</th>\n",
       "      <td>0032bfa835ce0f43a92ae0bbab6871cb</td>\n",
       "      <td>2</td>\n",
       "    </tr>\n",
       "    <tr>\n",
       "      <th>8</th>\n",
       "      <td>003a91841da04a5a31f808fb5c21538a</td>\n",
       "      <td>1</td>\n",
       "    </tr>\n",
       "    <tr>\n",
       "      <th>9</th>\n",
       "      <td>003d4dd6bd61221ebc0bfb9350db333f</td>\n",
       "      <td>0</td>\n",
       "    </tr>\n",
       "  </tbody>\n",
       "</table>\n",
       "</div>"
      ],
      "text/plain": [
       "                           image_id  isup_grade\n",
       "0  0005f7aaab2800f6170c399693a96917           0\n",
       "1  000920ad0b612851f8e01bcc880d9b3d           0\n",
       "2  0018ae58b01bdadc8e347995b69f99aa           4\n",
       "3  001c62abd11fa4b57bf7a6c603a11bb9           4\n",
       "4  001d865e65ef5d2579c190a0e0350d8f           0\n",
       "5  002a4db09dad406c85505a00fb6f6144           1\n",
       "6  003046e27c8ead3e3db155780dc5498e           1\n",
       "7  0032bfa835ce0f43a92ae0bbab6871cb           2\n",
       "8  003a91841da04a5a31f808fb5c21538a           1\n",
       "9  003d4dd6bd61221ebc0bfb9350db333f           0"
      ]
     },
     "execution_count": 9,
     "metadata": {},
     "output_type": "execute_result"
    }
   ],
   "source": [
    "df[['image_id', 'isup_grade']]\n",
    "# df[['image_id', 'isup_grade']].to_csv('submission.csv', index=False)"
   ]
  },
  {
   "cell_type": "code",
   "execution_count": null,
   "metadata": {},
   "outputs": [],
   "source": []
  }
 ],
 "metadata": {
  "kernelspec": {
   "display_name": "Python 3",
   "language": "python",
   "name": "python3"
  },
  "language_info": {
   "codemirror_mode": {
    "name": "ipython",
    "version": 3
   },
   "file_extension": ".py",
   "mimetype": "text/x-python",
   "name": "python",
   "nbconvert_exporter": "python",
   "pygments_lexer": "ipython3",
   "version": "3.6.9"
  }
 },
 "nbformat": 4,
 "nbformat_minor": 4
}
